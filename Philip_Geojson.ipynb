{
  "nbformat": 4,
  "nbformat_minor": 0,
  "metadata": {
    "colab": {
      "provenance": [],
      "include_colab_link": true
    },
    "kernelspec": {
      "name": "python3",
      "display_name": "Python 3"
    },
    "language_info": {
      "name": "python"
    }
  },
  "cells": [
    {
      "cell_type": "markdown",
      "metadata": {
        "id": "view-in-github",
        "colab_type": "text"
      },
      "source": [
        "<a href=\"https://colab.research.google.com/github/philipebuka/Fifa-analysis/blob/main/Philip_Geojson.ipynb\" target=\"_parent\"><img src=\"https://colab.research.google.com/assets/colab-badge.svg\" alt=\"Open In Colab\"/></a>"
      ]
    },
    {
      "cell_type": "code",
      "source": [
        "!pip install geopandas"
      ],
      "metadata": {
        "colab": {
          "base_uri": "https://localhost:8080/"
        },
        "id": "lU2UXTCZQJ25",
        "outputId": "bfbe9118-ee56-4042-afd5-d0c4dc70df2e"
      },
      "execution_count": 1,
      "outputs": [
        {
          "output_type": "stream",
          "name": "stdout",
          "text": [
            "Requirement already satisfied: geopandas in /usr/local/lib/python3.11/dist-packages (1.1.1)\n",
            "Requirement already satisfied: numpy>=1.24 in /usr/local/lib/python3.11/dist-packages (from geopandas) (2.0.2)\n",
            "Requirement already satisfied: pyogrio>=0.7.2 in /usr/local/lib/python3.11/dist-packages (from geopandas) (0.11.1)\n",
            "Requirement already satisfied: packaging in /usr/local/lib/python3.11/dist-packages (from geopandas) (25.0)\n",
            "Requirement already satisfied: pandas>=2.0.0 in /usr/local/lib/python3.11/dist-packages (from geopandas) (2.2.2)\n",
            "Requirement already satisfied: pyproj>=3.5.0 in /usr/local/lib/python3.11/dist-packages (from geopandas) (3.7.1)\n",
            "Requirement already satisfied: shapely>=2.0.0 in /usr/local/lib/python3.11/dist-packages (from geopandas) (2.1.1)\n",
            "Requirement already satisfied: python-dateutil>=2.8.2 in /usr/local/lib/python3.11/dist-packages (from pandas>=2.0.0->geopandas) (2.9.0.post0)\n",
            "Requirement already satisfied: pytz>=2020.1 in /usr/local/lib/python3.11/dist-packages (from pandas>=2.0.0->geopandas) (2025.2)\n",
            "Requirement already satisfied: tzdata>=2022.7 in /usr/local/lib/python3.11/dist-packages (from pandas>=2.0.0->geopandas) (2025.2)\n",
            "Requirement already satisfied: certifi in /usr/local/lib/python3.11/dist-packages (from pyogrio>=0.7.2->geopandas) (2025.8.3)\n",
            "Requirement already satisfied: six>=1.5 in /usr/local/lib/python3.11/dist-packages (from python-dateutil>=2.8.2->pandas>=2.0.0->geopandas) (1.17.0)\n"
          ]
        }
      ]
    },
    {
      "cell_type": "code",
      "execution_count": 2,
      "metadata": {
        "colab": {
          "base_uri": "https://localhost:8080/"
        },
        "id": "rUu60RMKPgkn",
        "outputId": "711f4c3a-c095-4380-d9de-144ab8953ef7"
      },
      "outputs": [
        {
          "output_type": "stream",
          "name": "stdout",
          "text": [
            "Gombe State GeoJSON saved to: Kano_Ward_Boundaries.geojson\n"
          ]
        }
      ],
      "source": [
        "import geopandas as gpd\n",
        "import json\n",
        "\n",
        "# File path to your original GeoJSON\n",
        "file_path = \"/content/Nigeria_-_Ward_Boundaries.geojson\"\n",
        "\n",
        "# Read raw GeoJSON\n",
        "with open(file_path, 'r', encoding='utf-8') as f:\n",
        "    data = json.load(f)\n",
        "\n",
        "# Filter features where statename == \"Gombe\"\n",
        "gombe_features = [\n",
        "    feat for feat in data['features']\n",
        "    if feat['properties']['statename'] == \"Kano\"\n",
        "]\n",
        "\n",
        "# Create new GeoJSON structure\n",
        "gombe_geojson = {\n",
        "    \"type\": \"FeatureCollection\",\n",
        "    \"features\": gombe_features\n",
        "}\n",
        "\n",
        "# Save filtered file\n",
        "gombe_file_path = \"Kano_Ward_Boundaries.geojson\"\n",
        "with open(gombe_file_path, 'w', encoding='utf-8') as f:\n",
        "    json.dump(gombe_geojson, f)\n",
        "\n",
        "print(f\"Gombe State GeoJSON saved to: {gombe_file_path}\")"
      ]
    },
    {
      "cell_type": "code",
      "source": [
        "import json\n",
        "\n",
        "def transform_geojson(input_filename, output_filename):\n",
        "    \"\"\"\n",
        "    Reads a standard GeoJSON FeatureCollection and transforms it into a\n",
        "    nested structure similar to the Geography.json template.\n",
        "    \"\"\"\n",
        "    try:\n",
        "        # Step 1: Read the original Gombe GeoJSON file\n",
        "        with open(input_filename, 'r') as f:\n",
        "            gombe_data = json.load(f)\n",
        "\n",
        "        # Step 2: Create the base template structure\n",
        "        # You can customize tenantId and moduleName as needed\n",
        "        transformed_structure = {\n",
        "            \"tenantId\": \"go.gombe\",\n",
        "            \"moduleName\": \"LOCATION-GEO\",\n",
        "            \"Geography\": [\n",
        "                {\n",
        "                    \"name\": \"Gombe\",\n",
        "                    \"division\": \"LGA\",\n",
        "                    \"geoJson\": {\n",
        "                        \"type\": \"Feature\",\n",
        "                        \"geometry\": {\n",
        "                            \"type\": \"Polygon\",\n",
        "                            # IMPORTANT: These coordinates are a placeholder.\n",
        "                            # You need to replace [...] with the actual coordinates\n",
        "                            # that form the outer boundary of the entire Gombe LGA.\n",
        "                            \"coordinates\": [\n",
        "                                [\n",
        "                                    # [longitude, latitude],\n",
        "                                    # [..., ...],\n",
        "                                ]\n",
        "                            ]\n",
        "                        },\n",
        "                        \"properties\": {\n",
        "                            \"name\": \"Gombe\",\n",
        "                            \"parent\": \"Gombe State\",\n",
        "                            \"type\": \"LGA\"\n",
        "                        }\n",
        "                    },\n",
        "                    \"geoJsonChildren\": {\n",
        "                        \"type\": \"FeatureCollection\",\n",
        "                        \"features\": [] # Wards will be added here\n",
        "                    }\n",
        "                }\n",
        "            ]\n",
        "        }\n",
        "\n",
        "        # Step 3: Loop through each ward in the Gombe file and transform it\n",
        "        if 'features' in gombe_data:\n",
        "            for ward_feature in gombe_data['features']:\n",
        "                # Create the new feature structure for the child\n",
        "                new_feature = {\n",
        "                    \"type\": \"Feature\",\n",
        "                    # Copy the geometry directly\n",
        "                    \"geometry\": ward_feature.get('geometry'),\n",
        "                    # Map the properties\n",
        "                    \"properties\": {\n",
        "                        \"name\": ward_feature.get('properties', {}).get('wardname'),\n",
        "                        \"type\": \"Ward\"\n",
        "                    }\n",
        "                }\n",
        "                # Add the newly formatted feature to the geoJsonChildren list\n",
        "                transformed_structure['Geography'][0]['geoJsonChildren']['features'].append(new_feature)\n",
        "\n",
        "        # Step 4: Write the new structure to the output file\n",
        "        with open(output_filename, 'w') as f:\n",
        "            json.dump(transformed_structure, f, indent=2)\n",
        "\n",
        "        print(f\"Successfully transformed the file!\")\n",
        "        print(f\"Output saved as: {output_filename}\")\n",
        "\n",
        "    except FileNotFoundError:\n",
        "        print(f\"Error: The file '{input_filename}' was not found.\")\n",
        "        print(\"Please make sure you have uploaded it to your Colab session.\")\n",
        "    except Exception as e:\n",
        "        print(f\"An error occurred: {e}\")\n",
        "\n",
        "# --- Main execution ---\n",
        "# Define the input and output filenames\n",
        "input_file = '/content/Kano_Ward_Boundaries.geojson'\n",
        "output_file = 'Kano_Geography_Transformed.json'\n",
        "\n",
        "# Run the transformation function\n",
        "transform_geojson(input_file, output_file)"
      ],
      "metadata": {
        "colab": {
          "base_uri": "https://localhost:8080/"
        },
        "id": "nfFXuOaAPrHD",
        "outputId": "a73191a0-99bf-4a3a-82d3-fa42b6703767"
      },
      "execution_count": 4,
      "outputs": [
        {
          "output_type": "stream",
          "name": "stdout",
          "text": [
            "Successfully transformed the file!\n",
            "Output saved as: Kano_Geography_Transformed.json\n"
          ]
        }
      ]
    },
    {
      "cell_type": "code",
      "source": [],
      "metadata": {
        "id": "lN65hDNqTL9t"
      },
      "execution_count": null,
      "outputs": []
    }
  ]
}